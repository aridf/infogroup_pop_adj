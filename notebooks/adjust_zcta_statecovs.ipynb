{
 "cells": [
  {
   "cell_type": "code",
   "execution_count": 1,
   "metadata": {},
   "outputs": [],
   "source": [
    "suppressPackageStartupMessages({\n",
    "    library(tidyverse)\n",
    "    library(brms)\n",
    "    library(gtools)\n",
    "    library(visdat)\n",
    "    library(parallel)\n",
    "    library(ggridges)\n",
    "})"
   ]
  },
  {
   "cell_type": "code",
   "execution_count": 2,
   "metadata": {},
   "outputs": [],
   "source": [
    "source(\"../functions/utils.R\")"
   ]
  },
  {
   "cell_type": "code",
   "execution_count": 3,
   "metadata": {},
   "outputs": [
    {
     "name": "stderr",
     "output_type": "stream",
     "text": [
      "Parsed with column specification:\n",
      "cols(\n",
      "  .default = col_double(),\n",
      "  stateid = \u001b[31mcol_character()\u001b[39m\n",
      ")\n",
      "\n",
      "See spec(...) for full column specifications.\n",
      "\n"
     ]
    }
   ],
   "source": [
    "dec <- readRDS(\"../data/prepped_data/zctas_decennial.rds\")\n",
    "acs_5_zcta <- readRDS(\"../data/prepped_data/zctas_acs.rds\")\n",
    "acs_1_state <- read_csv(\"../data/acs/state_acs_1yr_2005_2018_long.csv\")\n",
    "names(dec) <- sub(\"_$\", \"\", names(dec))\n",
    "names(acs_5_zcta) <- sub(\"_$\", \"\", names(acs_5_zcta))\n",
    "names(acs_1_state) <- sub(\"_$\", \"\", names(acs_1_state))"
   ]
  },
  {
   "cell_type": "code",
   "execution_count": 4,
   "metadata": {},
   "outputs": [
    {
     "name": "stderr",
     "output_type": "stream",
     "text": [
      "Warning message:\n",
      "“`funs()` is deprecated as of dplyr 0.8.0.\n",
      "Please use a list of either functions or lambdas: \n",
      "\n",
      "  # Simple named list: \n",
      "  list(mean = mean, median = median)\n",
      "\n",
      "  # Auto named with `tibble::lst()`: \n",
      "  tibble::lst(mean, median)\n",
      "\n",
      "  # Using lambdas\n",
      "  list(~ mean(., trim = .2), ~ median(., na.rm = TRUE))\n",
      "\u001b[90mThis warning is displayed once every 8 hours.\u001b[39m\n",
      "\u001b[90mCall `lifecycle::last_warnings()` to see where this warning was generated.\u001b[39m”\n"
     ]
    },
    {
     "data": {
      "text/html": [
       "<table>\n",
       "<caption>A tibble: 6 × 32</caption>\n",
       "<thead>\n",
       "\t<tr><th scope=col>stateid</th><th scope=col>medhhinc</th><th scope=col>pown</th><th scope=col>pfemale</th><th scope=col>page_1824</th><th scope=col>page_under18</th><th scope=col>page_65plus</th><th scope=col>pnw</th><th scope=col>pblack</th><th scope=col>phisp</th><th scope=col>⋯</th><th scope=col>pmoved_fromabroad</th><th scope=col>pmoved</th><th scope=col>punemployed</th><th scope=col>ppost2010_2015</th><th scope=col>ppost2010_2016</th><th scope=col>ppost2010_2017</th><th scope=col>ppov</th><th scope=col>ppost2000</th><th scope=col>ppost2010_2018</th><th scope=col>chh_density</th></tr>\n",
       "\t<tr><th scope=col>&lt;chr&gt;</th><th scope=col>&lt;dbl&gt;</th><th scope=col>&lt;dbl&gt;</th><th scope=col>&lt;dbl&gt;</th><th scope=col>&lt;dbl&gt;</th><th scope=col>&lt;dbl&gt;</th><th scope=col>&lt;dbl&gt;</th><th scope=col>&lt;dbl&gt;</th><th scope=col>&lt;dbl&gt;</th><th scope=col>&lt;dbl&gt;</th><th scope=col>⋯</th><th scope=col>&lt;dbl&gt;</th><th scope=col>&lt;dbl&gt;</th><th scope=col>&lt;dbl&gt;</th><th scope=col>&lt;dbl&gt;</th><th scope=col>&lt;dbl&gt;</th><th scope=col>&lt;dbl&gt;</th><th scope=col>&lt;dbl&gt;</th><th scope=col>&lt;dbl&gt;</th><th scope=col>&lt;dbl&gt;</th><th scope=col>&lt;dbl&gt;</th></tr>\n",
       "</thead>\n",
       "<tbody>\n",
       "\t<tr><td>01</td><td>46355.0</td><td>0.6804054</td><td>0.5153949</td><td>0.09874125</td><td>0.2262161</td><td>0.1595054</td><td>0.3419844</td><td>0.26526935</td><td>0.04128040</td><td>⋯</td><td>0.00309055</td><td>0.1412618</td><td>0.07627305</td><td>0.0403324</td><td>0.0528370</td><td>0.0631478</td><td>0.1680208</td><td>0.2245393</td><td>0.0739738</td><td>36.30764</td></tr>\n",
       "\t<tr><td>02</td><td>73291.5</td><td>0.6455120</td><td>0.4775371</td><td>0.10373470</td><td>0.2525073</td><td>0.1042730</td><td>0.3871266</td><td>0.03298175</td><td>0.06896995</td><td>⋯</td><td>0.00829375</td><td>0.1764857</td><td>0.07780730</td><td>0.0291676</td><td>0.0385262</td><td>0.0410704</td><td>0.1090628</td><td>0.2155444</td><td>0.0551088</td><td> 0.43860</td></tr>\n",
       "\t<tr><td>04</td><td>53878.0</td><td>0.6343763</td><td>0.5025916</td><td>0.09830650</td><td>0.2364080</td><td>0.1646494</td><td>0.4454972</td><td>0.04149630</td><td>0.30929935</td><td>⋯</td><td>0.00618125</td><td>0.1760519</td><td>0.07138570</td><td>0.0313635</td><td>0.0468884</td><td>0.0622993</td><td>0.1402305</td><td>0.3033029</td><td>0.0702701</td><td>22.07469</td></tr>\n",
       "\t<tr><td>05</td><td>43786.5</td><td>0.6574150</td><td>0.5080809</td><td>0.09629945</td><td>0.2370203</td><td>0.1608526</td><td>0.2713023</td><td>0.15333280</td><td>0.07252380</td><td>⋯</td><td>0.00302995</td><td>0.1481078</td><td>0.06288470</td><td>0.0427219</td><td>0.0577767</td><td>0.0728825</td><td>0.1724536</td><td>0.2412792</td><td>0.0839343</td><td>21.92972</td></tr>\n",
       "\t<tr><td>06</td><td>67733.5</td><td>0.5430274</td><td>0.5025531</td><td>0.09979385</td><td>0.2332427</td><td>0.1341681</td><td>0.6226273</td><td>0.05581395</td><td>0.38842230</td><td>⋯</td><td>0.00744965</td><td>0.1357353</td><td>0.07789600</td><td>0.0196668</td><td>0.0272620</td><td>0.0347151</td><td>0.1280145</td><td>0.1502939</td><td>0.0414703</td><td>82.56148</td></tr>\n",
       "\t<tr><td>08</td><td>65388.0</td><td>0.6482442</td><td>0.4973903</td><td>0.09506770</td><td>0.2290131</td><td>0.1321287</td><td>0.3154672</td><td>0.03832225</td><td>0.21362510</td><td>⋯</td><td>0.00661915</td><td>0.1850758</td><td>0.05480090</td><td>0.0363983</td><td>0.0530259</td><td>0.0679821</td><td>0.0963762</td><td>0.2527189</td><td>0.0827625</td><td>20.16347</td></tr>\n",
       "</tbody>\n",
       "</table>\n"
      ],
      "text/latex": [
       "A tibble: 6 × 32\n",
       "\\begin{tabular}{lllllllllllllllllllll}\n",
       " stateid & medhhinc & pown & pfemale & page\\_1824 & page\\_under18 & page\\_65plus & pnw & pblack & phisp & ⋯ & pmoved\\_fromabroad & pmoved & punemployed & ppost2010\\_2015 & ppost2010\\_2016 & ppost2010\\_2017 & ppov & ppost2000 & ppost2010\\_2018 & chh\\_density\\\\\n",
       " <chr> & <dbl> & <dbl> & <dbl> & <dbl> & <dbl> & <dbl> & <dbl> & <dbl> & <dbl> & ⋯ & <dbl> & <dbl> & <dbl> & <dbl> & <dbl> & <dbl> & <dbl> & <dbl> & <dbl> & <dbl>\\\\\n",
       "\\hline\n",
       "\t 01 & 46355.0 & 0.6804054 & 0.5153949 & 0.09874125 & 0.2262161 & 0.1595054 & 0.3419844 & 0.26526935 & 0.04128040 & ⋯ & 0.00309055 & 0.1412618 & 0.07627305 & 0.0403324 & 0.0528370 & 0.0631478 & 0.1680208 & 0.2245393 & 0.0739738 & 36.30764\\\\\n",
       "\t 02 & 73291.5 & 0.6455120 & 0.4775371 & 0.10373470 & 0.2525073 & 0.1042730 & 0.3871266 & 0.03298175 & 0.06896995 & ⋯ & 0.00829375 & 0.1764857 & 0.07780730 & 0.0291676 & 0.0385262 & 0.0410704 & 0.1090628 & 0.2155444 & 0.0551088 &  0.43860\\\\\n",
       "\t 04 & 53878.0 & 0.6343763 & 0.5025916 & 0.09830650 & 0.2364080 & 0.1646494 & 0.4454972 & 0.04149630 & 0.30929935 & ⋯ & 0.00618125 & 0.1760519 & 0.07138570 & 0.0313635 & 0.0468884 & 0.0622993 & 0.1402305 & 0.3033029 & 0.0702701 & 22.07469\\\\\n",
       "\t 05 & 43786.5 & 0.6574150 & 0.5080809 & 0.09629945 & 0.2370203 & 0.1608526 & 0.2713023 & 0.15333280 & 0.07252380 & ⋯ & 0.00302995 & 0.1481078 & 0.06288470 & 0.0427219 & 0.0577767 & 0.0728825 & 0.1724536 & 0.2412792 & 0.0839343 & 21.92972\\\\\n",
       "\t 06 & 67733.5 & 0.5430274 & 0.5025531 & 0.09979385 & 0.2332427 & 0.1341681 & 0.6226273 & 0.05581395 & 0.38842230 & ⋯ & 0.00744965 & 0.1357353 & 0.07789600 & 0.0196668 & 0.0272620 & 0.0347151 & 0.1280145 & 0.1502939 & 0.0414703 & 82.56148\\\\\n",
       "\t 08 & 65388.0 & 0.6482442 & 0.4973903 & 0.09506770 & 0.2290131 & 0.1321287 & 0.3154672 & 0.03832225 & 0.21362510 & ⋯ & 0.00661915 & 0.1850758 & 0.05480090 & 0.0363983 & 0.0530259 & 0.0679821 & 0.0963762 & 0.2527189 & 0.0827625 & 20.16347\\\\\n",
       "\\end{tabular}\n"
      ],
      "text/markdown": [
       "\n",
       "A tibble: 6 × 32\n",
       "\n",
       "| stateid &lt;chr&gt; | medhhinc &lt;dbl&gt; | pown &lt;dbl&gt; | pfemale &lt;dbl&gt; | page_1824 &lt;dbl&gt; | page_under18 &lt;dbl&gt; | page_65plus &lt;dbl&gt; | pnw &lt;dbl&gt; | pblack &lt;dbl&gt; | phisp &lt;dbl&gt; | ⋯ ⋯ | pmoved_fromabroad &lt;dbl&gt; | pmoved &lt;dbl&gt; | punemployed &lt;dbl&gt; | ppost2010_2015 &lt;dbl&gt; | ppost2010_2016 &lt;dbl&gt; | ppost2010_2017 &lt;dbl&gt; | ppov &lt;dbl&gt; | ppost2000 &lt;dbl&gt; | ppost2010_2018 &lt;dbl&gt; | chh_density &lt;dbl&gt; |\n",
       "|---|---|---|---|---|---|---|---|---|---|---|---|---|---|---|---|---|---|---|---|---|\n",
       "| 01 | 46355.0 | 0.6804054 | 0.5153949 | 0.09874125 | 0.2262161 | 0.1595054 | 0.3419844 | 0.26526935 | 0.04128040 | ⋯ | 0.00309055 | 0.1412618 | 0.07627305 | 0.0403324 | 0.0528370 | 0.0631478 | 0.1680208 | 0.2245393 | 0.0739738 | 36.30764 |\n",
       "| 02 | 73291.5 | 0.6455120 | 0.4775371 | 0.10373470 | 0.2525073 | 0.1042730 | 0.3871266 | 0.03298175 | 0.06896995 | ⋯ | 0.00829375 | 0.1764857 | 0.07780730 | 0.0291676 | 0.0385262 | 0.0410704 | 0.1090628 | 0.2155444 | 0.0551088 |  0.43860 |\n",
       "| 04 | 53878.0 | 0.6343763 | 0.5025916 | 0.09830650 | 0.2364080 | 0.1646494 | 0.4454972 | 0.04149630 | 0.30929935 | ⋯ | 0.00618125 | 0.1760519 | 0.07138570 | 0.0313635 | 0.0468884 | 0.0622993 | 0.1402305 | 0.3033029 | 0.0702701 | 22.07469 |\n",
       "| 05 | 43786.5 | 0.6574150 | 0.5080809 | 0.09629945 | 0.2370203 | 0.1608526 | 0.2713023 | 0.15333280 | 0.07252380 | ⋯ | 0.00302995 | 0.1481078 | 0.06288470 | 0.0427219 | 0.0577767 | 0.0728825 | 0.1724536 | 0.2412792 | 0.0839343 | 21.92972 |\n",
       "| 06 | 67733.5 | 0.5430274 | 0.5025531 | 0.09979385 | 0.2332427 | 0.1341681 | 0.6226273 | 0.05581395 | 0.38842230 | ⋯ | 0.00744965 | 0.1357353 | 0.07789600 | 0.0196668 | 0.0272620 | 0.0347151 | 0.1280145 | 0.1502939 | 0.0414703 | 82.56148 |\n",
       "| 08 | 65388.0 | 0.6482442 | 0.4973903 | 0.09506770 | 0.2290131 | 0.1321287 | 0.3154672 | 0.03832225 | 0.21362510 | ⋯ | 0.00661915 | 0.1850758 | 0.05480090 | 0.0363983 | 0.0530259 | 0.0679821 | 0.0963762 | 0.2527189 | 0.0827625 | 20.16347 |\n",
       "\n"
      ],
      "text/plain": [
       "  stateid medhhinc pown      pfemale   page_1824  page_under18 page_65plus\n",
       "1 01      46355.0  0.6804054 0.5153949 0.09874125 0.2262161    0.1595054  \n",
       "2 02      73291.5  0.6455120 0.4775371 0.10373470 0.2525073    0.1042730  \n",
       "3 04      53878.0  0.6343763 0.5025916 0.09830650 0.2364080    0.1646494  \n",
       "4 05      43786.5  0.6574150 0.5080809 0.09629945 0.2370203    0.1608526  \n",
       "5 06      67733.5  0.5430274 0.5025531 0.09979385 0.2332427    0.1341681  \n",
       "6 08      65388.0  0.6482442 0.4973903 0.09506770 0.2290131    0.1321287  \n",
       "  pnw       pblack     phisp      ⋯ pmoved_fromabroad pmoved    punemployed\n",
       "1 0.3419844 0.26526935 0.04128040 ⋯ 0.00309055        0.1412618 0.07627305 \n",
       "2 0.3871266 0.03298175 0.06896995 ⋯ 0.00829375        0.1764857 0.07780730 \n",
       "3 0.4454972 0.04149630 0.30929935 ⋯ 0.00618125        0.1760519 0.07138570 \n",
       "4 0.2713023 0.15333280 0.07252380 ⋯ 0.00302995        0.1481078 0.06288470 \n",
       "5 0.6226273 0.05581395 0.38842230 ⋯ 0.00744965        0.1357353 0.07789600 \n",
       "6 0.3154672 0.03832225 0.21362510 ⋯ 0.00661915        0.1850758 0.05480090 \n",
       "  ppost2010_2015 ppost2010_2016 ppost2010_2017 ppov      ppost2000\n",
       "1 0.0403324      0.0528370      0.0631478      0.1680208 0.2245393\n",
       "2 0.0291676      0.0385262      0.0410704      0.1090628 0.2155444\n",
       "3 0.0313635      0.0468884      0.0622993      0.1402305 0.3033029\n",
       "4 0.0427219      0.0577767      0.0728825      0.1724536 0.2412792\n",
       "5 0.0196668      0.0272620      0.0347151      0.1280145 0.1502939\n",
       "6 0.0363983      0.0530259      0.0679821      0.0963762 0.2527189\n",
       "  ppost2010_2018 chh_density\n",
       "1 0.0739738      36.30764   \n",
       "2 0.0551088       0.43860   \n",
       "3 0.0702701      22.07469   \n",
       "4 0.0839343      21.92972   \n",
       "5 0.0414703      82.56148   \n",
       "6 0.0827625      20.16347   "
      ]
     },
     "metadata": {},
     "output_type": "display_data"
    }
   ],
   "source": [
    "state_avg <- acs_1_state %>%\n",
    "    filter(year %in% c(2013, 2018)) %>%\n",
    "    select(-one_of(\"area_sqmi\", \"geoid\", \"year\", \"chh\", \"chh_moe\")) %>%\n",
    "    group_by(stateid) %>%\n",
    "    summarize_all(funs(mean(., na.rm = TRUE)))\n",
    "head(state_avg)"
   ]
  },
  {
   "cell_type": "code",
   "execution_count": 5,
   "metadata": {},
   "outputs": [
    {
     "data": {
      "text/html": [
       "<table>\n",
       "<caption>A tibble: 6 × 35</caption>\n",
       "<thead>\n",
       "\t<tr><th scope=col>zcta_id</th><th scope=col>ig_count_imptd</th><th scope=col>chh</th><th scope=col>stateid</th><th scope=col>medhhinc</th><th scope=col>pown</th><th scope=col>pfemale</th><th scope=col>page_1824</th><th scope=col>page_under18</th><th scope=col>page_65plus</th><th scope=col>⋯</th><th scope=col>pmoved_fromabroad</th><th scope=col>pmoved</th><th scope=col>punemployed</th><th scope=col>ppost2010_2015</th><th scope=col>ppost2010_2016</th><th scope=col>ppost2010_2017</th><th scope=col>ppov</th><th scope=col>ppost2000</th><th scope=col>ppost2010_2018</th><th scope=col>chh_density</th></tr>\n",
       "\t<tr><th scope=col>&lt;chr&gt;</th><th scope=col>&lt;dbl&gt;</th><th scope=col>&lt;dbl&gt;</th><th scope=col>&lt;chr&gt;</th><th scope=col>&lt;dbl&gt;</th><th scope=col>&lt;dbl&gt;</th><th scope=col>&lt;dbl&gt;</th><th scope=col>&lt;dbl&gt;</th><th scope=col>&lt;dbl&gt;</th><th scope=col>&lt;dbl&gt;</th><th scope=col>⋯</th><th scope=col>&lt;dbl&gt;</th><th scope=col>&lt;dbl&gt;</th><th scope=col>&lt;dbl&gt;</th><th scope=col>&lt;dbl&gt;</th><th scope=col>&lt;dbl&gt;</th><th scope=col>&lt;dbl&gt;</th><th scope=col>&lt;dbl&gt;</th><th scope=col>&lt;dbl&gt;</th><th scope=col>&lt;dbl&gt;</th><th scope=col>&lt;dbl&gt;</th></tr>\n",
       "</thead>\n",
       "<tbody>\n",
       "\t<tr><td>01001</td><td>7923</td><td>7215</td><td>25</td><td>73301.5</td><td>0.6164816</td><td>0.5147761</td><td>0.1028019</td><td>0.2030996</td><td>0.1563719</td><td>⋯</td><td>0.0092599</td><td>0.1295039</td><td>0.0626684</td><td>0.018372</td><td>0.0268995</td><td>0.0331011</td><td>0.0996114</td><td>0.1086845</td><td>0.0408889</td><td>330.8064</td></tr>\n",
       "\t<tr><td>01002</td><td>9533</td><td>9910</td><td>25</td><td>73301.5</td><td>0.6164816</td><td>0.5147761</td><td>0.1028019</td><td>0.2030996</td><td>0.1563719</td><td>⋯</td><td>0.0092599</td><td>0.1295039</td><td>0.0626684</td><td>0.018372</td><td>0.0268995</td><td>0.0331011</td><td>0.0996114</td><td>0.1086845</td><td>0.0408889</td><td>330.8064</td></tr>\n",
       "\t<tr><td>01005</td><td>1866</td><td>1904</td><td>25</td><td>73301.5</td><td>0.6164816</td><td>0.5147761</td><td>0.1028019</td><td>0.2030996</td><td>0.1563719</td><td>⋯</td><td>0.0092599</td><td>0.1295039</td><td>0.0626684</td><td>0.018372</td><td>0.0268995</td><td>0.0331011</td><td>0.0996114</td><td>0.1086845</td><td>0.0408889</td><td>330.8064</td></tr>\n",
       "\t<tr><td>01007</td><td>5415</td><td>5595</td><td>25</td><td>73301.5</td><td>0.6164816</td><td>0.5147761</td><td>0.1028019</td><td>0.2030996</td><td>0.1563719</td><td>⋯</td><td>0.0092599</td><td>0.1295039</td><td>0.0626684</td><td>0.018372</td><td>0.0268995</td><td>0.0331011</td><td>0.0996114</td><td>0.1086845</td><td>0.0408889</td><td>330.8064</td></tr>\n",
       "\t<tr><td>01008</td><td> 444</td><td> 503</td><td>25</td><td>73301.5</td><td>0.6164816</td><td>0.5147761</td><td>0.1028019</td><td>0.2030996</td><td>0.1563719</td><td>⋯</td><td>0.0092599</td><td>0.1295039</td><td>0.0626684</td><td>0.018372</td><td>0.0268995</td><td>0.0331011</td><td>0.0996114</td><td>0.1086845</td><td>0.0408889</td><td>330.8064</td></tr>\n",
       "\t<tr><td>01009</td><td> 347</td><td> 315</td><td>25</td><td>73301.5</td><td>0.6164816</td><td>0.5147761</td><td>0.1028019</td><td>0.2030996</td><td>0.1563719</td><td>⋯</td><td>0.0092599</td><td>0.1295039</td><td>0.0626684</td><td>0.018372</td><td>0.0268995</td><td>0.0331011</td><td>0.0996114</td><td>0.1086845</td><td>0.0408889</td><td>330.8064</td></tr>\n",
       "</tbody>\n",
       "</table>\n"
      ],
      "text/latex": [
       "A tibble: 6 × 35\n",
       "\\begin{tabular}{lllllllllllllllllllll}\n",
       " zcta\\_id & ig\\_count\\_imptd & chh & stateid & medhhinc & pown & pfemale & page\\_1824 & page\\_under18 & page\\_65plus & ⋯ & pmoved\\_fromabroad & pmoved & punemployed & ppost2010\\_2015 & ppost2010\\_2016 & ppost2010\\_2017 & ppov & ppost2000 & ppost2010\\_2018 & chh\\_density\\\\\n",
       " <chr> & <dbl> & <dbl> & <chr> & <dbl> & <dbl> & <dbl> & <dbl> & <dbl> & <dbl> & ⋯ & <dbl> & <dbl> & <dbl> & <dbl> & <dbl> & <dbl> & <dbl> & <dbl> & <dbl> & <dbl>\\\\\n",
       "\\hline\n",
       "\t 01001 & 7923 & 7215 & 25 & 73301.5 & 0.6164816 & 0.5147761 & 0.1028019 & 0.2030996 & 0.1563719 & ⋯ & 0.0092599 & 0.1295039 & 0.0626684 & 0.018372 & 0.0268995 & 0.0331011 & 0.0996114 & 0.1086845 & 0.0408889 & 330.8064\\\\\n",
       "\t 01002 & 9533 & 9910 & 25 & 73301.5 & 0.6164816 & 0.5147761 & 0.1028019 & 0.2030996 & 0.1563719 & ⋯ & 0.0092599 & 0.1295039 & 0.0626684 & 0.018372 & 0.0268995 & 0.0331011 & 0.0996114 & 0.1086845 & 0.0408889 & 330.8064\\\\\n",
       "\t 01005 & 1866 & 1904 & 25 & 73301.5 & 0.6164816 & 0.5147761 & 0.1028019 & 0.2030996 & 0.1563719 & ⋯ & 0.0092599 & 0.1295039 & 0.0626684 & 0.018372 & 0.0268995 & 0.0331011 & 0.0996114 & 0.1086845 & 0.0408889 & 330.8064\\\\\n",
       "\t 01007 & 5415 & 5595 & 25 & 73301.5 & 0.6164816 & 0.5147761 & 0.1028019 & 0.2030996 & 0.1563719 & ⋯ & 0.0092599 & 0.1295039 & 0.0626684 & 0.018372 & 0.0268995 & 0.0331011 & 0.0996114 & 0.1086845 & 0.0408889 & 330.8064\\\\\n",
       "\t 01008 &  444 &  503 & 25 & 73301.5 & 0.6164816 & 0.5147761 & 0.1028019 & 0.2030996 & 0.1563719 & ⋯ & 0.0092599 & 0.1295039 & 0.0626684 & 0.018372 & 0.0268995 & 0.0331011 & 0.0996114 & 0.1086845 & 0.0408889 & 330.8064\\\\\n",
       "\t 01009 &  347 &  315 & 25 & 73301.5 & 0.6164816 & 0.5147761 & 0.1028019 & 0.2030996 & 0.1563719 & ⋯ & 0.0092599 & 0.1295039 & 0.0626684 & 0.018372 & 0.0268995 & 0.0331011 & 0.0996114 & 0.1086845 & 0.0408889 & 330.8064\\\\\n",
       "\\end{tabular}\n"
      ],
      "text/markdown": [
       "\n",
       "A tibble: 6 × 35\n",
       "\n",
       "| zcta_id &lt;chr&gt; | ig_count_imptd &lt;dbl&gt; | chh &lt;dbl&gt; | stateid &lt;chr&gt; | medhhinc &lt;dbl&gt; | pown &lt;dbl&gt; | pfemale &lt;dbl&gt; | page_1824 &lt;dbl&gt; | page_under18 &lt;dbl&gt; | page_65plus &lt;dbl&gt; | ⋯ ⋯ | pmoved_fromabroad &lt;dbl&gt; | pmoved &lt;dbl&gt; | punemployed &lt;dbl&gt; | ppost2010_2015 &lt;dbl&gt; | ppost2010_2016 &lt;dbl&gt; | ppost2010_2017 &lt;dbl&gt; | ppov &lt;dbl&gt; | ppost2000 &lt;dbl&gt; | ppost2010_2018 &lt;dbl&gt; | chh_density &lt;dbl&gt; |\n",
       "|---|---|---|---|---|---|---|---|---|---|---|---|---|---|---|---|---|---|---|---|---|\n",
       "| 01001 | 7923 | 7215 | 25 | 73301.5 | 0.6164816 | 0.5147761 | 0.1028019 | 0.2030996 | 0.1563719 | ⋯ | 0.0092599 | 0.1295039 | 0.0626684 | 0.018372 | 0.0268995 | 0.0331011 | 0.0996114 | 0.1086845 | 0.0408889 | 330.8064 |\n",
       "| 01002 | 9533 | 9910 | 25 | 73301.5 | 0.6164816 | 0.5147761 | 0.1028019 | 0.2030996 | 0.1563719 | ⋯ | 0.0092599 | 0.1295039 | 0.0626684 | 0.018372 | 0.0268995 | 0.0331011 | 0.0996114 | 0.1086845 | 0.0408889 | 330.8064 |\n",
       "| 01005 | 1866 | 1904 | 25 | 73301.5 | 0.6164816 | 0.5147761 | 0.1028019 | 0.2030996 | 0.1563719 | ⋯ | 0.0092599 | 0.1295039 | 0.0626684 | 0.018372 | 0.0268995 | 0.0331011 | 0.0996114 | 0.1086845 | 0.0408889 | 330.8064 |\n",
       "| 01007 | 5415 | 5595 | 25 | 73301.5 | 0.6164816 | 0.5147761 | 0.1028019 | 0.2030996 | 0.1563719 | ⋯ | 0.0092599 | 0.1295039 | 0.0626684 | 0.018372 | 0.0268995 | 0.0331011 | 0.0996114 | 0.1086845 | 0.0408889 | 330.8064 |\n",
       "| 01008 |  444 |  503 | 25 | 73301.5 | 0.6164816 | 0.5147761 | 0.1028019 | 0.2030996 | 0.1563719 | ⋯ | 0.0092599 | 0.1295039 | 0.0626684 | 0.018372 | 0.0268995 | 0.0331011 | 0.0996114 | 0.1086845 | 0.0408889 | 330.8064 |\n",
       "| 01009 |  347 |  315 | 25 | 73301.5 | 0.6164816 | 0.5147761 | 0.1028019 | 0.2030996 | 0.1563719 | ⋯ | 0.0092599 | 0.1295039 | 0.0626684 | 0.018372 | 0.0268995 | 0.0331011 | 0.0996114 | 0.1086845 | 0.0408889 | 330.8064 |\n",
       "\n"
      ],
      "text/plain": [
       "  zcta_id ig_count_imptd chh  stateid medhhinc pown      pfemale   page_1824\n",
       "1 01001   7923           7215 25      73301.5  0.6164816 0.5147761 0.1028019\n",
       "2 01002   9533           9910 25      73301.5  0.6164816 0.5147761 0.1028019\n",
       "3 01005   1866           1904 25      73301.5  0.6164816 0.5147761 0.1028019\n",
       "4 01007   5415           5595 25      73301.5  0.6164816 0.5147761 0.1028019\n",
       "5 01008    444            503 25      73301.5  0.6164816 0.5147761 0.1028019\n",
       "6 01009    347            315 25      73301.5  0.6164816 0.5147761 0.1028019\n",
       "  page_under18 page_65plus ⋯ pmoved_fromabroad pmoved    punemployed\n",
       "1 0.2030996    0.1563719   ⋯ 0.0092599         0.1295039 0.0626684  \n",
       "2 0.2030996    0.1563719   ⋯ 0.0092599         0.1295039 0.0626684  \n",
       "3 0.2030996    0.1563719   ⋯ 0.0092599         0.1295039 0.0626684  \n",
       "4 0.2030996    0.1563719   ⋯ 0.0092599         0.1295039 0.0626684  \n",
       "5 0.2030996    0.1563719   ⋯ 0.0092599         0.1295039 0.0626684  \n",
       "6 0.2030996    0.1563719   ⋯ 0.0092599         0.1295039 0.0626684  \n",
       "  ppost2010_2015 ppost2010_2016 ppost2010_2017 ppov      ppost2000\n",
       "1 0.018372       0.0268995      0.0331011      0.0996114 0.1086845\n",
       "2 0.018372       0.0268995      0.0331011      0.0996114 0.1086845\n",
       "3 0.018372       0.0268995      0.0331011      0.0996114 0.1086845\n",
       "4 0.018372       0.0268995      0.0331011      0.0996114 0.1086845\n",
       "5 0.018372       0.0268995      0.0331011      0.0996114 0.1086845\n",
       "6 0.018372       0.0268995      0.0331011      0.0996114 0.1086845\n",
       "  ppost2010_2018 chh_density\n",
       "1 0.0408889      330.8064   \n",
       "2 0.0408889      330.8064   \n",
       "3 0.0408889      330.8064   \n",
       "4 0.0408889      330.8064   \n",
       "5 0.0408889      330.8064   \n",
       "6 0.0408889      330.8064   "
      ]
     },
     "metadata": {},
     "output_type": "display_data"
    }
   ],
   "source": [
    "dec_c <- dec %>%\n",
    "    select(zcta_id, ig_count_imptd, chh, state_fips) %>%\n",
    "    rename(\"stateid\" = \"state_fips\") %>%\n",
    "    mutate(\"stateid\" = str_pad(as.character(stateid), width = 2, side = \"left\", pad = \"0\")) %>%\n",
    "    left_join(state_avg, by = \"stateid\") \n",
    "head(dec_c)"
   ]
  },
  {
   "cell_type": "markdown",
   "metadata": {},
   "source": [
    "### Modelling"
   ]
  },
  {
   "cell_type": "code",
   "execution_count": 10,
   "metadata": {},
   "outputs": [
    {
     "data": {
      "text/html": [
       "7"
      ],
      "text/latex": [
       "7"
      ],
      "text/markdown": [
       "7"
      ],
      "text/plain": [
       "[1] 7"
      ]
     },
     "metadata": {},
     "output_type": "display_data"
    }
   ],
   "source": [
    "n_cores <- detectCores() - 1\n",
    "n_cores"
   ]
  },
  {
   "cell_type": "code",
   "execution_count": 12,
   "metadata": {},
   "outputs": [],
   "source": [
    "desc1 <- \"Bayesian random slopes with covariates\"\n",
    "f1 <- formula(log(chh) ~ 1 + log(ig_count_imptd) + (1 + log(ig_count_imptd) | stateid) +\n",
    "              pown + pfemale + page_1824 + page_under18 + page_65plus + pnw + pblack + \n",
    "              phisp + pasian + pnative + pvacant + phu_othervacant + pgq)\n",
    "formulas <- list(f1)"
   ]
  },
  {
   "cell_type": "code",
   "execution_count": 13,
   "metadata": {},
   "outputs": [],
   "source": [
    "my_prior <- c(\n",
    "    set_prior(\"normal(0, 5)\", class = \"Intercept\"),\n",
    "    set_prior(\"normal(0, 5)\", class = \"b\"),\n",
    "    set_prior(\"student_t(3, 0, 5)\", class = \"sd\"),\n",
    "    set_prior(\"lkj(2)\", class = \"cor\")\n",
    ")"
   ]
  },
  {
   "cell_type": "code",
   "execution_count": 14,
   "metadata": {
    "scrolled": false
   },
   "outputs": [
    {
     "name": "stdout",
     "output_type": "stream",
     "text": [
      "// generated with brms 2.14.4\n",
      "functions {\n",
      "  /* turn a vector into a matrix of defined dimension \n",
      "   * stores elements in row major order\n",
      "   * Args: \n",
      "   *   X: a vector \n",
      "   *   N: first dimension of the desired matrix\n",
      "   *   K: second dimension of the desired matrix \n",
      "   * Returns: \n",
      "   *   a matrix of dimension N x K \n",
      "   */ \n",
      "  matrix as_matrix(vector X, int N, int K) { \n",
      "    matrix[N, K] Y; \n",
      "    for (i in 1:N) {\n",
      "      Y[i] = to_row_vector(X[((i - 1) * K + 1):(i * K)]); \n",
      "    }\n",
      "    return Y; \n",
      "  } \n",
      " /* compute correlated group-level effects\n",
      "  * Args: \n",
      "  *   z: matrix of unscaled group-level effects\n",
      "  *   SD: vector of standard deviation parameters\n",
      "  *   L: cholesky factor correlation matrix\n",
      "  * Returns: \n",
      "  *   matrix of scaled group-level effects\n",
      "  */ \n",
      "  matrix scale_r_cor(matrix z, vector SD, matrix L) {\n",
      "    // r is stored in another dimension order than z\n",
      "    return transpose(diag_pre_multiply(SD, L) * z);\n",
      "  }\n",
      "}\n",
      "data {\n",
      "  int<lower=1> N;  // total number of observations\n",
      "  vector[N] Y;  // response variable\n",
      "  int<lower=1> K;  // number of population-level effects\n",
      "  matrix[N, K] X;  // population-level design matrix\n",
      "  // data for group-level effects of ID 1\n",
      "  int<lower=1> N_1;  // number of grouping levels\n",
      "  int<lower=1> M_1;  // number of coefficients per level\n",
      "  int<lower=1> J_1[N];  // grouping indicator per observation\n",
      "  // group-level predictor values\n",
      "  vector[N] Z_1_1;\n",
      "  vector[N] Z_1_2;\n",
      "  int<lower=1> NC_1;  // number of group-level correlations\n",
      "  int prior_only;  // should the likelihood be ignored?\n",
      "}\n",
      "transformed data {\n",
      "  int Kc = K - 1;\n",
      "  matrix[N, Kc] Xc;  // centered version of X without an intercept\n",
      "  vector[Kc] means_X;  // column means of X before centering\n",
      "  for (i in 2:K) {\n",
      "    means_X[i - 1] = mean(X[, i]);\n",
      "    Xc[, i - 1] = X[, i] - means_X[i - 1];\n",
      "  }\n",
      "}\n",
      "parameters {\n",
      "  vector[Kc] b;  // population-level effects\n",
      "  real Intercept;  // temporary intercept for centered predictors\n",
      "  real<lower=0> sigma;  // residual SD\n",
      "  vector<lower=0>[M_1] sd_1;  // group-level standard deviations\n",
      "  matrix[M_1, N_1] z_1;  // standardized group-level effects\n",
      "  cholesky_factor_corr[M_1] L_1;  // cholesky factor of correlation matrix\n",
      "}\n",
      "transformed parameters {\n",
      "  matrix[N_1, M_1] r_1;  // actual group-level effects\n",
      "  // using vectors speeds up indexing in loops\n",
      "  vector[N_1] r_1_1;\n",
      "  vector[N_1] r_1_2;\n",
      "  // compute actual group-level effects\n",
      "  r_1 = scale_r_cor(z_1, sd_1, L_1);\n",
      "  r_1_1 = r_1[, 1];\n",
      "  r_1_2 = r_1[, 2];\n",
      "}\n",
      "model {\n",
      "  // likelihood including all constants\n",
      "  if (!prior_only) {\n",
      "    // initialize linear predictor term\n",
      "    vector[N] mu = Intercept + rep_vector(0.0, N);\n",
      "    for (n in 1:N) {\n",
      "      // add more terms to the linear predictor\n",
      "      mu[n] += r_1_1[J_1[n]] * Z_1_1[n] + r_1_2[J_1[n]] * Z_1_2[n];\n",
      "    }\n",
      "    target += normal_id_glm_lpdf(Y | Xc, mu, b, sigma);\n",
      "  }\n",
      "  // priors including all constants\n",
      "  target += normal_lpdf(b | 0, 5);\n",
      "  target += normal_lpdf(Intercept | 0, 5);\n",
      "  target += student_t_lpdf(sigma | 3, 0, 2.5)\n",
      "    - 1 * student_t_lccdf(0 | 3, 0, 2.5);\n",
      "  target += student_t_lpdf(sd_1 | 3, 0, 5)\n",
      "    - 2 * student_t_lccdf(0 | 3, 0, 5);\n",
      "  target += std_normal_lpdf(to_vector(z_1));\n",
      "  target += lkj_corr_cholesky_lpdf(L_1 | 2);\n",
      "}\n",
      "generated quantities {\n",
      "  // actual population-level intercept\n",
      "  real b_Intercept = Intercept - dot_product(means_X, b);\n",
      "  // compute group-level correlations\n",
      "  corr_matrix[M_1] Cor_1 = multiply_lower_tri_self_transpose(L_1);\n",
      "  vector<lower=-1,upper=1>[NC_1] cor_1;\n",
      "  // extract upper diagonal of correlation matrix\n",
      "  for (k in 1:M_1) {\n",
      "    for (j in 1:(k - 1)) {\n",
      "      cor_1[choose(k - 1, 2) + j] = Cor_1[j, k];\n",
      "    }\n",
      "  }\n",
      "}\n"
     ]
    }
   ],
   "source": [
    "print(make_stancode(f1, dec_c, prior = my_prior))"
   ]
  },
  {
   "cell_type": "code",
   "execution_count": null,
   "metadata": {},
   "outputs": [
    {
     "name": "stdout",
     "output_type": "stream",
     "text": [
      "Fitting model 1"
     ]
    },
    {
     "name": "stderr",
     "output_type": "stream",
     "text": [
      "\n",
      "\n",
      "Compiling Stan program...\n",
      "\n",
      "Start sampling\n",
      "\n"
     ]
    }
   ],
   "source": [
    "models <- fit_models(\n",
    "    formulas, \n",
    "    dec_c, \n",
    "    \"../models/zcta/zcta_state_covs.rds\", \n",
    "    cores = n_cores,\n",
    "    prior = my_prior,\n",
    "    chains = 6,\n",
    "    iter = 6000,\n",
    "    warmup = 1000,\n",
    "    thin = 3\n",
    ")"
   ]
  }
 ],
 "metadata": {
  "kernelspec": {
   "display_name": "R",
   "language": "R",
   "name": "ir"
  },
  "language_info": {
   "codemirror_mode": "r",
   "file_extension": ".r",
   "mimetype": "text/x-r-source",
   "name": "R",
   "pygments_lexer": "r",
   "version": "4.0.2"
  }
 },
 "nbformat": 4,
 "nbformat_minor": 4
}
